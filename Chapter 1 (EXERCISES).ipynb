{
 "cells": [
  {
   "cell_type": "markdown",
   "id": "01944460",
   "metadata": {},
   "source": [
    "## EXERCISE 1"
   ]
  },
  {
   "cell_type": "code",
   "execution_count": 2,
   "id": "37defab6",
   "metadata": {},
   "outputs": [],
   "source": [
    "import networkx as nx \n",
    "def get_leaves(G):\n",
    "    list=[]\n",
    "    for node in G.nodes:\n",
    "        if G.degree(node)==1:\n",
    "            list.append(node)\n",
    "    return list  \n",
    "        "
   ]
  },
  {
   "cell_type": "code",
   "execution_count": 4,
   "id": "79422bad",
   "metadata": {},
   "outputs": [],
   "source": [
    "G = nx.Graph()\n",
    "G.add_edges_from([\n",
    "        ('a', 'b'),\n",
    "        ('a', 'd'),\n",
    "        ('c', 'd'),\n",
    "    ])"
   ]
  },
  {
   "cell_type": "code",
   "execution_count": 6,
   "id": "7c580dba",
   "metadata": {},
   "outputs": [
    {
     "data": {
      "text/plain": [
       "['b', 'c']"
      ]
     },
     "execution_count": 6,
     "metadata": {},
     "output_type": "execute_result"
    }
   ],
   "source": [
    "get_leaves(G)"
   ]
  },
  {
   "cell_type": "markdown",
   "id": "157b5e40",
   "metadata": {},
   "source": [
    "# EXERCISE 2"
   ]
  },
  {
   "cell_type": "code",
   "execution_count": 11,
   "id": "2688df8c",
   "metadata": {},
   "outputs": [],
   "source": [
    "def max_degree(G):\n",
    "    tup=()\n",
    "    mx=0\n",
    "    for node in G.nodes:\n",
    "        if G.degree(node)>mx:\n",
    "            mx=G.degree(node)\n",
    "            tup=(node,mx)\n",
    "    return tup   \n",
    "    "
   ]
  },
  {
   "cell_type": "code",
   "execution_count": 30,
   "id": "504f20e4",
   "metadata": {},
   "outputs": [
    {
     "name": "stdout",
     "output_type": "stream",
     "text": [
      "George Frank Dennis\n",
      "Dennis Claire Esther\n",
      "Claire Frank Alice Esther\n",
      "Bob Alice\n",
      "Frank Alice\n",
      "Alice\n",
      "Esther\n",
      "Shelly\n"
     ]
    },
    {
     "data": {
      "image/png": "[encoded data removed]",
      "text/plain": [
       "<Figure size 432x288 with 1 Axes>"
      ]
     },
     "metadata": {},
     "output_type": "display_data"
    }
   ],
   "source": [
    "print(open('friends.adjlist').read())\n",
    "SG = nx.read_adjlist('friends.adjlist')\n",
    "nx.draw(SG, node_size=2000, node_color='lightblue', with_labels=True)"
   ]
  },
  {
   "cell_type": "code",
   "execution_count": 32,
   "id": "af5f8ad0",
   "metadata": {},
   "outputs": [
    {
     "data": {
      "text/plain": [
       "('Claire', 4)"
      ]
     },
     "execution_count": 32,
     "metadata": {},
     "output_type": "execute_result"
    }
   ],
   "source": [
    "max_degree(SG)"
   ]
  },
  {
   "cell_type": "markdown",
   "id": "dd680822",
   "metadata": {},
   "source": [
    "# EXERCISE 3"
   ]
  },
  {
   "cell_type": "code",
   "execution_count": 42,
   "id": "1919e826",
   "metadata": {},
   "outputs": [],
   "source": [
    "def mutual_friends(G, node_1, node_2):\n",
    "    lt=[]\n",
    "    for node in G.nodes:\n",
    "        f1=0\n",
    "        f2=0\n",
    "        for nob in G.neighbors(node):\n",
    "            if node_1==nob :\n",
    "                f1=1\n",
    "            elif node_2==nob:\n",
    "                f2=1\n",
    "        if f1==1 and f2==1:\n",
    "            lt.append(node) \n",
    "    return lt"
   ]
  },
  {
   "cell_type": "code",
   "execution_count": 44,
   "id": "b0b3c459",
   "metadata": {},
   "outputs": [
    {
     "data": {
      "text/plain": [
       "['Frank']"
      ]
     },
     "execution_count": 44,
     "metadata": {},
     "output_type": "execute_result"
    }
   ],
   "source": [
    "mutual_friends(SG, 'Alice', 'Claire')"
   ]
  },
  {
   "cell_type": "code",
   "execution_count": 45,
   "id": "7c7ddf4e",
   "metadata": {},
   "outputs": [
    {
     "data": {
      "text/plain": [
       "[]"
      ]
     },
     "execution_count": 45,
     "metadata": {},
     "output_type": "execute_result"
    }
   ],
   "source": [
    "mutual_friends(SG, 'George', 'Bob')"
   ]
  },
  {
   "cell_type": "code",
   "execution_count": 46,
   "id": "2b28ea3d",
   "metadata": {},
   "outputs": [
    {
     "data": {
      "text/plain": [
       "['Dennis', 'Frank']"
      ]
     },
     "execution_count": 46,
     "metadata": {},
     "output_type": "execute_result"
    }
   ],
   "source": [
    "sorted(mutual_friends(SG, 'Claire', 'George'))"
   ]
  }
 ],
 "metadata": {
  "kernelspec": {
   "display_name": "Python 3 (ipykernel)",
   "language": "python",
   "name": "python3"
  },
  "language_info": {
   "codemirror_mode": {
    "name": "ipython",
    "version": 3
   },
   "file_extension": ".py",
   "mimetype": "text/x-python",
   "name": "python",
   "nbconvert_exporter": "python",
   "pygments_lexer": "ipython3",
   "version": "3.9.7"
  }
 },
 "nbformat": 4,
 "nbformat_minor": 5
}
