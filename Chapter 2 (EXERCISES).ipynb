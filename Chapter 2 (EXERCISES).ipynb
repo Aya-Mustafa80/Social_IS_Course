{
 "cells": [
  {
   "cell_type": "code",
   "execution_count": 1,
   "id": "d4f6fb27",
   "metadata": {},
   "outputs": [],
   "source": [
    "import networkx as nx\n",
    "%matplotlib inline"
   ]
  },
  {
   "cell_type": "code",
   "execution_count": 2,
   "id": "bbdffd67",
   "metadata": {},
   "outputs": [],
   "source": [
    "G = nx.read_graphml('openflights_usa.graphml.gz')"
   ]
  },
  {
   "cell_type": "markdown",
   "id": "8867b299",
   "metadata": {},
   "source": [
    "## EXERCISE 1\n"
   ]
  },
  {
   "cell_type": "markdown",
   "id": "77e76bd9",
   "metadata": {},
   "source": [
    "#### Is there a direct flight between Indianapolis and Fairbanks, Alaska (FAI)? A direct flight is one with no intermediate stops."
   ]
  },
  {
   "cell_type": "code",
   "execution_count": 13,
   "id": "132307a4",
   "metadata": {},
   "outputs": [],
   "source": [
    "def DirectFlight(port1,port2,G):\n",
    "    if len(nx.shortest_path(G, port1, port2))==2:\n",
    "        print('There is direct flight between'+port1+' and '+port2)\n",
    "    else:\n",
    "        print('There is no direct flight between'+port1+' and '+port2)\n",
    "    \n",
    "    "
   ]
  },
  {
   "cell_type": "code",
   "execution_count": 14,
   "id": "064ec107",
   "metadata": {},
   "outputs": [
    {
     "name": "stdout",
     "output_type": "stream",
     "text": [
      "There is no direct flight betweenIND and FAI\n"
     ]
    }
   ],
   "source": [
    "port1='IND'\n",
    "port2='FAI'\n",
    "DirectFlight(port1,port2,G)"
   ]
  },
  {
   "cell_type": "markdown",
   "id": "b7520638",
   "metadata": {},
   "source": [
    "## EXERCISE 2"
   ]
  },
  {
   "cell_type": "markdown",
   "id": "9612f3f6",
   "metadata": {},
   "source": [
    "#### If I wanted to fly from Indianapolis to Fairbanks, Alaska what would be an itinerary with the fewest number of flights?"
   ]
  },
  {
   "cell_type": "code",
   "execution_count": 18,
   "id": "11ce729f",
   "metadata": {},
   "outputs": [],
   "source": [
    "def FewestNumOfFligts(port1,port2,G):\n",
    "    print('The shortest flight passes through these cities:  ')\n",
    "    cities=nx.shortest_path(G, port1, port2)\n",
    "    for city in cities:\n",
    "        print(city)\n",
    "    "
   ]
  },
  {
   "cell_type": "code",
   "execution_count": 20,
   "id": "6ae5182a",
   "metadata": {},
   "outputs": [
    {
     "name": "stdout",
     "output_type": "stream",
     "text": [
      "The shortest flight passes through these cities  \n",
      "IND\n",
      "BOS\n",
      "SEA\n",
      "FAI\n"
     ]
    }
   ],
   "source": [
    "port1='IND'\n",
    "port2='FAI'\n",
    "FewestNumOfFligts(port1,port2,G)"
   ]
  },
  {
   "cell_type": "markdown",
   "id": "49c71f0a",
   "metadata": {},
   "source": [
    "## EXERCISE 3 "
   ]
  },
  {
   "cell_type": "markdown",
   "id": "dead1db5",
   "metadata": {},
   "source": [
    "#### Is it possible to travel from any airport in the US to any other airport in the US, possibly using connecting flights? In other words, does there exist a path in the network between every possible pair of airports?"
   ]
  },
  {
   "cell_type": "code",
   "execution_count": 24,
   "id": "dfc44833",
   "metadata": {},
   "outputs": [],
   "source": [
    "def IsThereConnectingFlights(G):\n",
    "    if nx.is_connected(G):\n",
    "        print('Yes, it is possible')\n",
    "    else:\n",
    "        print('No, it is not possible')"
   ]
  },
  {
   "cell_type": "code",
   "execution_count": 25,
   "id": "1c467720",
   "metadata": {},
   "outputs": [
    {
     "name": "stdout",
     "output_type": "stream",
     "text": [
      "No, it is not possible\n"
     ]
    }
   ],
   "source": [
    "IsThereConnectingFlights(G)"
   ]
  },
  {
   "cell_type": "code",
   "execution_count": null,
   "id": "6df6c71e",
   "metadata": {},
   "outputs": [],
   "source": []
  }
 ],
 "metadata": {
  "kernelspec": {
   "display_name": "Python 3 (ipykernel)",
   "language": "python",
   "name": "python3"
  },
  "language_info": {
   "codemirror_mode": {
    "name": "ipython",
    "version": 3
   },
   "file_extension": ".py",
   "mimetype": "text/x-python",
   "name": "python",
   "nbconvert_exporter": "python",
   "pygments_lexer": "ipython3",
   "version": "3.9.7"
  }
 },
 "nbformat": 4,
 "nbformat_minor": 5
}
