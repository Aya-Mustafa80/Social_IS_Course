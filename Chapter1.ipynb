{
 "cells": [
  {
   "cell_type": "code",
   "execution_count": 3,
   "id": "3814a56d",
   "metadata": {},
   "outputs": [],
   "source": [
    "import networkx as nx\n",
    "%matplotlib inline"
   ]
  },
  {
   "cell_type": "code",
   "execution_count": 3,
   "id": "a764a61c",
   "metadata": {},
   "outputs": [
    {
     "data": {
      "image/png": "[encoded data removed]",
      "text/plain": [
       "<Figure size 432x288 with 1 Axes>"
      ]
     },
     "metadata": {},
     "output_type": "display_data"
    }
   ],
   "source": [
    "G = nx.Graph()\n",
    "#G.add_node('a')\n",
    "nodes_to_add = ['b', 'c', 'd']\n",
    "G.add_nodes_from(nodes_to_add)\n",
    "G.add_edge('a', 'b')\n",
    "edges_to_add = [('a', 'c'), ('b', 'c'), ('c', 'd')]\n",
    "G.add_edges_from(edges_to_add)\n",
    "#nx.draw(G, with_labels=True)\n",
    "nx.draw(G,\n",
    "        with_labels=True,\n",
    "        node_color='red',\n",
    "        node_size=1600,\n",
    "        font_color='black',\n",
    "        font_size=16,\n",
    "        )"
   ]
  },
  {
   "cell_type": "code",
   "execution_count": 13,
   "id": "71e55fea",
   "metadata": {},
   "outputs": [
    {
     "name": "stdout",
     "output_type": "stream",
     "text": [
      "['b', 'c', 'd', 'a']\n"
     ]
    }
   ],
   "source": [
    "print(G.nodes()) "
   ]
  },
  {
   "cell_type": "code",
   "execution_count": 14,
   "id": "d75850ae",
   "metadata": {},
   "outputs": [
    {
     "name": "stdout",
     "output_type": "stream",
     "text": [
      "[('b', 'a'), ('b', 'c'), ('c', 'a'), ('c', 'd')]\n"
     ]
    }
   ],
   "source": [
    "print(G.edges())\n"
   ]
  },
  {
   "cell_type": "code",
   "execution_count": 15,
   "id": "0cceab32",
   "metadata": {},
   "outputs": [
    {
     "name": "stdout",
     "output_type": "stream",
     "text": [
      "b\n",
      "c\n",
      "d\n",
      "a\n"
     ]
    }
   ],
   "source": [
    "for node in G.nodes:\n",
    "    print(node)"
   ]
  },
  {
   "cell_type": "code",
   "execution_count": 16,
   "id": "7f40106d",
   "metadata": {},
   "outputs": [
    {
     "name": "stdout",
     "output_type": "stream",
     "text": [
      "('b', 'a')\n",
      "('b', 'c')\n",
      "('c', 'a')\n",
      "('c', 'd')\n"
     ]
    }
   ],
   "source": [
    "for edge in G.edges:\n",
    "    print(edge)"
   ]
  },
  {
   "cell_type": "code",
   "execution_count": 18,
   "id": "7b0ae063",
   "metadata": {},
   "outputs": [
    {
     "name": "stdout",
     "output_type": "stream",
     "text": [
      "4\n",
      "4\n"
     ]
    }
   ],
   "source": [
    "print(G.number_of_nodes())\n",
    "print(G.number_of_edges()) "
   ]
  },
  {
   "cell_type": "code",
   "execution_count": 19,
   "id": "77dc470a",
   "metadata": {},
   "outputs": [
    {
     "name": "stdout",
     "output_type": "stream",
     "text": [
      "a\n",
      "c\n"
     ]
    }
   ],
   "source": [
    "for neighbor in G.neighbors('b'):\n",
    "    print(neighbor)"
   ]
  },
  {
   "cell_type": "code",
   "execution_count": 20,
   "id": "4e512731",
   "metadata": {},
   "outputs": [
    {
     "data": {
      "text/plain": [
       "['a', 'c']"
      ]
     },
     "execution_count": 20,
     "metadata": {},
     "output_type": "execute_result"
    }
   ],
   "source": [
    "list(G.neighbors('b'))"
   ]
  },
  {
   "cell_type": "code",
   "execution_count": 21,
   "id": "8a5a4348",
   "metadata": {},
   "outputs": [
    {
     "name": "stdout",
     "output_type": "stream",
     "text": [
      "False\n",
      "True\n"
     ]
    }
   ],
   "source": [
    "print(nx.is_tree(G))\n",
    "print(nx.is_connected(G))"
   ]
  },
  {
   "cell_type": "code",
   "execution_count": 22,
   "id": "937053dd",
   "metadata": {},
   "outputs": [
    {
     "name": "stdout",
     "output_type": "stream",
     "text": [
      "True\n",
      "False\n",
      "True\n",
      "True\n",
      "False\n",
      "True\n"
     ]
    }
   ],
   "source": [
    "print(G.has_node('a'))\n",
    "print(G.has_node('x'))\n",
    "print('d' in G.nodes)\n",
    "print(G.has_edge('a', 'b'))\n",
    "print(G.has_edge('a', 'd'))\n",
    "print(('c', 'd') in G.edges)"
   ]
  },
  {
   "cell_type": "code",
   "execution_count": 23,
   "id": "b18becff",
   "metadata": {},
   "outputs": [
    {
     "name": "stdout",
     "output_type": "stream",
     "text": [
      "2\n",
      "2\n"
     ]
    }
   ],
   "source": [
    "print(len(list(G.neighbors('a'))))\n",
    "print(G.degree('a'))"
   ]
  },
  {
   "cell_type": "code",
   "execution_count": 24,
   "id": "a3bb702c",
   "metadata": {},
   "outputs": [
    {
     "data": {
      "text/plain": [
       "['SPIDER', 'Y', 'BANANA']"
      ]
     },
     "execution_count": 24,
     "metadata": {},
     "output_type": "execute_result"
    }
   ],
   "source": [
    "items = ['spider', 'y', 'banana']\n",
    "[item.upper() for item in items]"
   ]
  },
  {
   "cell_type": "code",
   "execution_count": 25,
   "id": "a81342d4",
   "metadata": {},
   "outputs": [
    {
     "name": "stdout",
     "output_type": "stream",
     "text": [
      "['b', 'c', 'd', 'a']\n",
      "[2, 3, 1, 2]\n"
     ]
    }
   ],
   "source": [
    "print(G.nodes())\n",
    "print([G.degree(n) for n in G.nodes()])"
   ]
  },
  {
   "cell_type": "code",
   "execution_count": 26,
   "id": "afe8b0fa",
   "metadata": {},
   "outputs": [
    {
     "data": {
      "text/plain": [
       "[6, 1, 6]"
      ]
     },
     "execution_count": 26,
     "metadata": {},
     "output_type": "execute_result"
    }
   ],
   "source": [
    "g = (len(item) for item in items)\n",
    "list(g)"
   ]
  },
  {
   "cell_type": "code",
   "execution_count": 27,
   "id": "2cf5ead9",
   "metadata": {},
   "outputs": [
    {
     "data": {
      "text/plain": [
       "6"
      ]
     },
     "execution_count": 27,
     "metadata": {},
     "output_type": "execute_result"
    }
   ],
   "source": [
    "max(len(item) for item in items)"
   ]
  },
  {
   "cell_type": "code",
   "execution_count": 28,
   "id": "7f06a31a",
   "metadata": {},
   "outputs": [
    {
     "data": {
      "text/plain": [
       "['BANANA', 'SPIDER', 'Y']"
      ]
     },
     "execution_count": 28,
     "metadata": {},
     "output_type": "execute_result"
    }
   ],
   "source": [
    "sorted(item.upper() for item in items)"
   ]
  },
  {
   "cell_type": "code",
   "execution_count": 29,
   "id": "05214f38",
   "metadata": {},
   "outputs": [
    {
     "data": {
      "image/png": "[encoded data removed]",
      "text/plain": [
       "<Figure size 432x288 with 1 Axes>"
      ]
     },
     "metadata": {},
     "output_type": "display_data"
    }
   ],
   "source": [
    "G = nx.Graph()\n",
    "\n",
    "G.add_nodes_from(['cat','dog','virus',13])\n",
    "\n",
    "G.add_edge('cat','dog')\n",
    "\n",
    "nx.draw(G, with_labels=True, font_color='white', node_size=1000)"
   ]
  },
  {
   "cell_type": "code",
   "execution_count": 30,
   "id": "34a6d810",
   "metadata": {},
   "outputs": [
    {
     "data": {
      "image/png": "[encoded data removed]",
      "text/plain": [
       "<Figure size 432x288 with 1 Axes>"
      ]
     },
     "metadata": {},
     "output_type": "display_data"
    }
   ],
   "source": [
    "D = nx.DiGraph()\n",
    "\n",
    "D.add_edges_from([(1,2),(2,3),(3,2),(3,4),(3,5),(4,5),(4,6),(5,6),(6,4),(4,2)])\n",
    "\n",
    "nx.draw(D, with_labels=True)"
   ]
  },
  {
   "cell_type": "code",
   "execution_count": 32,
   "id": "dbbe9f40",
   "metadata": {},
   "outputs": [
    {
     "name": "stdout",
     "output_type": "stream",
     "text": [
      "True\n",
      "False\n"
     ]
    }
   ],
   "source": [
    "print(D.has_edge(1,2))\n",
    "print(D.has_edge(2,1))"
   ]
  },
  {
   "cell_type": "code",
   "execution_count": 33,
   "id": "f0251397",
   "metadata": {},
   "outputs": [
    {
     "name": "stdout",
     "output_type": "stream",
     "text": [
      "Successors of 2: [3]\n",
      "Predecessors of 2: [1, 3, 4]\n"
     ]
    }
   ],
   "source": [
    "print('Successors of 2:', list(D.successors(2)))\n",
    "\n",
    "print('Predecessors of 2:', list(D.predecessors(2)))"
   ]
  },
  {
   "cell_type": "code",
   "execution_count": 35,
   "id": "e66714ef",
   "metadata": {},
   "outputs": [
    {
     "name": "stdout",
     "output_type": "stream",
     "text": [
      "3\n",
      "1\n",
      "4\n"
     ]
    }
   ],
   "source": [
    "print(D.in_degree(2))\n",
    "print(D.out_degree(2))\n",
    "print(D.degree(2))"
   ]
  },
  {
   "cell_type": "code",
   "execution_count": 36,
   "id": "aa695ff6",
   "metadata": {},
   "outputs": [
    {
     "name": "stdout",
     "output_type": "stream",
     "text": [
      "Successors of 2: [3]\n",
      "\"Neighbors\" of 2: [3]\n"
     ]
    }
   ],
   "source": [
    "print('Successors of 2:', list(D.successors(2)))\n",
    "print('\"Neighbors\" of 2:', list(D.neighbors(2)))"
   ]
  },
  {
   "cell_type": "markdown",
   "id": "f8bc5a7d",
   "metadata": {},
   "source": [
    "## EXERCISE 1"
   ]
  },
  {
   "cell_type": "code",
   "execution_count": 37,
   "id": "9c9f6761",
   "metadata": {},
   "outputs": [],
   "source": [
    "import networkx as nx \n",
    "def get_leaves(G):\n",
    "    list=[]\n",
    "    for node in G.nodes:\n",
    "        if G.degree(node)==1:\n",
    "            list.append(node)\n",
    "    return list  \n",
    "        "
   ]
  },
  {
   "cell_type": "code",
   "execution_count": 38,
   "id": "4d73f4c6",
   "metadata": {},
   "outputs": [],
   "source": [
    "G = nx.Graph()\n",
    "G.add_edges_from([\n",
    "        ('a', 'b'),\n",
    "        ('a', 'd'),\n",
    "        ('c', 'd'),\n",
    "    ])"
   ]
  },
  {
   "cell_type": "code",
   "execution_count": 39,
   "id": "0e4ae506",
   "metadata": {},
   "outputs": [
    {
     "data": {
      "text/plain": [
       "['b', 'c']"
      ]
     },
     "execution_count": 39,
     "metadata": {},
     "output_type": "execute_result"
    }
   ],
   "source": [
    "get_leaves(G)"
   ]
  },
  {
   "cell_type": "markdown",
   "id": "669e815b",
   "metadata": {},
   "source": [
    "# EXERCISE 2\n"
   ]
  },
  {
   "cell_type": "code",
   "execution_count": 5,
   "id": "4199d8b4",
   "metadata": {},
   "outputs": [],
   "source": [
    "def max_degree(G):\n",
    "    tup=()\n",
    "    mx=0\n",
    "    for node in G.nodes:\n",
    "        if G.degree(node)>mx:\n",
    "            mx=G.degree(node)\n",
    "            tup=(node,mx)\n",
    "    return tup   \n",
    "    "
   ]
  },
  {
   "cell_type": "code",
   "execution_count": 6,
   "id": "70a97c58",
   "metadata": {},
   "outputs": [
    {
     "name": "stdout",
     "output_type": "stream",
     "text": [
      "George Frank Dennis\n",
      "Dennis Claire Esther\n",
      "Claire Frank Alice Esther\n",
      "Bob Alice\n",
      "Frank Alice\n",
      "Alice\n",
      "Esther\n",
      "Shelly\n"
     ]
    },
    {
     "data": {
      "image/png": "[encoded data removed]",
      "text/plain": [
       "<Figure size 432x288 with 1 Axes>"
      ]
     },
     "metadata": {},
     "output_type": "display_data"
    }
   ],
   "source": [
    "print(open('DataSets/friends.adjlist.txt').read())\n",
    "SG = nx.read_adjlist('DataSets/friends.adjlist.txt')\n",
    "nx.draw(SG, node_size=2000, node_color='lightblue', with_labels=True)"
   ]
  },
  {
   "cell_type": "code",
   "execution_count": 8,
   "id": "8cf854f5",
   "metadata": {},
   "outputs": [
    {
     "data": {
      "text/plain": [
       "('Claire', 4)"
      ]
     },
     "execution_count": 8,
     "metadata": {},
     "output_type": "execute_result"
    }
   ],
   "source": [
    "max_degree(SG)"
   ]
  },
  {
   "cell_type": "markdown",
   "id": "71b2d263",
   "metadata": {},
   "source": [
    "# EXERCISE 3"
   ]
  },
  {
   "cell_type": "code",
   "execution_count": 9,
   "id": "7fa5f246",
   "metadata": {},
   "outputs": [],
   "source": [
    "def mutual_friends(G, node_1, node_2):\n",
    "    lt=[]\n",
    "    for node in G.nodes:\n",
    "        f1=0\n",
    "        f2=0\n",
    "        for nob in G.neighbors(node):\n",
    "            if node_1==nob :\n",
    "                f1=1\n",
    "            elif node_2==nob:\n",
    "                f2=1\n",
    "        if f1==1 and f2==1:\n",
    "            lt.append(node) \n",
    "    return lt"
   ]
  },
  {
   "cell_type": "code",
   "execution_count": 10,
   "id": "7c5c3402",
   "metadata": {},
   "outputs": [
    {
     "data": {
      "text/plain": [
       "['Frank']"
      ]
     },
     "execution_count": 10,
     "metadata": {},
     "output_type": "execute_result"
    }
   ],
   "source": [
    "mutual_friends(SG, 'Alice', 'Claire')"
   ]
  },
  {
   "cell_type": "code",
   "execution_count": 11,
   "id": "357dc3b8",
   "metadata": {},
   "outputs": [
    {
     "data": {
      "text/plain": [
       "[]"
      ]
     },
     "execution_count": 11,
     "metadata": {},
     "output_type": "execute_result"
    }
   ],
   "source": [
    "mutual_friends(SG, 'George', 'Bob')"
   ]
  },
  {
   "cell_type": "code",
   "execution_count": 12,
   "id": "5015fb72",
   "metadata": {},
   "outputs": [
    {
     "data": {
      "text/plain": [
       "['Dennis', 'Frank']"
      ]
     },
     "execution_count": 12,
     "metadata": {},
     "output_type": "execute_result"
    }
   ],
   "source": [
    "sorted(mutual_friends(SG, 'Claire', 'George'))"
   ]
  },
  {
   "cell_type": "code",
   "execution_count": null,
   "id": "bbbe2175",
   "metadata": {},
   "outputs": [],
   "source": []
  }
 ],
 "metadata": {
  "kernelspec": {
   "display_name": "Python 3 (ipykernel)",
   "language": "python",
   "name": "python3"
  },
  "language_info": {
   "codemirror_mode": {
    "name": "ipython",
    "version": 3
   },
   "file_extension": ".py",
   "mimetype": "text/x-python",
   "name": "python",
   "nbconvert_exporter": "python",
   "pygments_lexer": "ipython3",
   "version": "3.9.7"
  }
 },
 "nbformat": 4,
 "nbformat_minor": 5
}
