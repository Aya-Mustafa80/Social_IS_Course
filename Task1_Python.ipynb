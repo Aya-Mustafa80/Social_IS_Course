{
 "cells": [
  {
   "cell_type": "markdown",
   "id": "4778fc45",
   "metadata": {},
   "source": [
    "Try Print Func:"
   ]
  },
  {
   "cell_type": "code",
   "execution_count": 1,
   "id": "4f5a49ce",
   "metadata": {},
   "outputs": [
    {
     "name": "stdout",
     "output_type": "stream",
     "text": [
      "try first task\n"
     ]
    }
   ],
   "source": [
    "print('try first task')"
   ]
  },
  {
   "cell_type": "markdown",
   "id": "8cd34188",
   "metadata": {},
   "source": [
    "Try deal Variables:"
   ]
  },
  {
   "cell_type": "code",
   "execution_count": 3,
   "id": "134c8f4c",
   "metadata": {},
   "outputs": [
    {
     "name": "stdout",
     "output_type": "stream",
     "text": [
      "55\n",
      "Hello from here\n"
     ]
    }
   ],
   "source": [
    "Int_Var=55\n",
    "String_Var='Hello from here'\n",
    "print(Int_Var)\n",
    "print(String_Var)"
   ]
  },
  {
   "cell_type": "markdown",
   "id": "69fbca5a",
   "metadata": {},
   "source": [
    "we can print variable by print() func OR by its name"
   ]
  },
  {
   "cell_type": "markdown",
   "id": "b2d2b0db",
   "metadata": {},
   "source": [
    "the diff that print() output all variable but print by name output only last one "
   ]
  },
  {
   "cell_type": "code",
   "execution_count": 6,
   "id": "39e7a827",
   "metadata": {},
   "outputs": [
    {
     "name": "stdout",
     "output_type": "stream",
     "text": [
      "2 3\n"
     ]
    },
    {
     "data": {
      "text/plain": [
       "3"
      ]
     },
     "execution_count": 6,
     "metadata": {},
     "output_type": "execute_result"
    }
   ],
   "source": [
    "N=2 \n",
    "M=3\n",
    "print(N,M)\n",
    "N\n",
    "M"
   ]
  },
  {
   "cell_type": "markdown",
   "id": "e5b6e935",
   "metadata": {},
   "source": [
    " Try iF Conditionals :"
   ]
  },
  {
   "cell_type": "code",
   "execution_count": 8,
   "id": "530e44b2",
   "metadata": {},
   "outputs": [
    {
     "name": "stdout",
     "output_type": "stream",
     "text": [
      "what is my phone type? Oppo reno2f\n",
      "Correct answer\n"
     ]
    }
   ],
   "source": [
    "myphonetype='Oppo reno2f'\n",
    "val=input('what is my phone type? ')\n",
    "if val==myphonetype :\n",
    "    print('Correct answer')\n",
    "else :\n",
    "    print (\"Wrong answer\")"
   ]
  },
  {
   "cell_type": "markdown",
   "id": "4404fc0d",
   "metadata": {},
   "source": [
    "Try Lists:"
   ]
  },
  {
   "cell_type": "code",
   "execution_count": 24,
   "id": "36dfec0b",
   "metadata": {},
   "outputs": [
    {
     "name": "stdout",
     "output_type": "stream",
     "text": [
      "A\n",
      "G\n",
      "['A', 'B']\n",
      "['A', 'B']\n",
      "['A', 'B', 'C', 'D', 'F', 'G']\n"
     ]
    }
   ],
   "source": [
    "Alpha=['A','B','C','D','F','G']\n",
    "#Indices start at zero\n",
    "#first index \n",
    "print(Alpha[0])\n",
    "#last index\n",
    "print(Alpha[-1])\n",
    "#subset of the list items\n",
    "print(Alpha[0:2])\n",
    "#slicing from the beginning of the list\n",
    "print(Alpha[:2])\n",
    "#slicing to the end of the list\n",
    "print(Alpha[0:])\n"
   ]
  },
  {
   "cell_type": "code",
   "execution_count": 25,
   "id": "81fb9b16",
   "metadata": {},
   "outputs": [
    {
     "name": "stdout",
     "output_type": "stream",
     "text": [
      "['A', 'B', 'C', 'D', 'F', 'G', 'I']\n",
      "['A', 'B', 'C', 'D', 'F', 'G', 'H', 'I']\n"
     ]
    }
   ],
   "source": [
    "#add items to the end of the list\n",
    "Alpha.append('I')\n",
    "print(Alpha)\n",
    "#add items at any index\n",
    "Alpha.insert(6,'H')\n",
    "print(Alpha)\n"
   ]
  },
  {
   "cell_type": "code",
   "execution_count": 26,
   "id": "35da9f92",
   "metadata": {},
   "outputs": [
    {
     "name": "stdout",
     "output_type": "stream",
     "text": [
      "['A', 'B', 'C', 'D', 'F', 'G', 'H']\n"
     ]
    }
   ],
   "source": [
    "#delete items\n",
    "del Alpha[-1]\n",
    "print(Alpha)"
   ]
  },
  {
   "cell_type": "markdown",
   "id": "4a0e2fef",
   "metadata": {},
   "source": [
    "Try Loops:"
   ]
  },
  {
   "cell_type": "code",
   "execution_count": 27,
   "id": "fb7629ff",
   "metadata": {},
   "outputs": [
    {
     "name": "stdout",
     "output_type": "stream",
     "text": [
      "Letter A\n",
      "Letter B\n",
      "Letter C\n",
      "Letter D\n",
      "Letter F\n",
      "Letter G\n",
      "Letter H\n"
     ]
    }
   ],
   "source": [
    "for letter in Alpha:\n",
    "    print('Letter ' + letter )"
   ]
  },
  {
   "cell_type": "code",
   "execution_count": 33,
   "id": "db0bf752",
   "metadata": {},
   "outputs": [
    {
     "data": {
      "text/plain": [
       "['A', 'B', 'C', 'D']"
      ]
     },
     "execution_count": 33,
     "metadata": {},
     "output_type": "execute_result"
    }
   ],
   "source": [
    "first4letter=[]\n",
    "for letter in Alpha:\n",
    "    if ord(letter)>=65 and ord(letter)<=68:   #ord() function to get ascii code\n",
    "        first4letter.append(letter)\n",
    "first4letter"
   ]
  },
  {
   "cell_type": "markdown",
   "id": "61269f96",
   "metadata": {},
   "source": [
    "Try Nested loops:"
   ]
  },
  {
   "cell_type": "code",
   "execution_count": 54,
   "id": "9755b257",
   "metadata": {},
   "outputs": [
    {
     "data": {
      "text/plain": [
       "[('W', 'W'),\n",
       " ('W', 'Y'),\n",
       " ('W', 'C'),\n",
       " ('W', 'P'),\n",
       " ('Y', 'W'),\n",
       " ('Y', 'Y'),\n",
       " ('Y', 'C'),\n",
       " ('Y', 'P'),\n",
       " ('C', 'W'),\n",
       " ('C', 'Y'),\n",
       " ('C', 'C'),\n",
       " ('C', 'P'),\n",
       " ('P', 'W'),\n",
       " ('P', 'Y'),\n",
       " ('P', 'C'),\n",
       " ('P', 'P')]"
      ]
     },
     "execution_count": 54,
     "metadata": {},
     "output_type": "execute_result"
    }
   ],
   "source": [
    "UAlpha=['W','Y','C','P']\n",
    "UniAlpha=[]\n",
    "for l in UAlpha:\n",
    "    for Letr in UAlpha:\n",
    "        UniAlpha.append((l,Letr))\n",
    "UniAlpha "
   ]
  },
  {
   "cell_type": "code",
   "execution_count": 57,
   "id": "b02de2b6",
   "metadata": {},
   "outputs": [
    {
     "data": {
      "text/plain": [
       "[('W', 'Y'),\n",
       " ('W', 'C'),\n",
       " ('W', 'P'),\n",
       " ('Y', 'W'),\n",
       " ('Y', 'C'),\n",
       " ('Y', 'P'),\n",
       " ('C', 'W'),\n",
       " ('C', 'Y'),\n",
       " ('C', 'P'),\n",
       " ('P', 'W'),\n",
       " ('P', 'Y'),\n",
       " ('P', 'C')]"
      ]
     },
     "execution_count": 57,
     "metadata": {},
     "output_type": "execute_result"
    }
   ],
   "source": [
    "UAlpha=['W','Y','C','P']\n",
    "UniAlpha=[]\n",
    "for l in UAlpha:\n",
    "    for Letr in UAlpha:\n",
    "        if l!=Letr:\n",
    "            UniAlpha.append((l,Letr))\n",
    "UniAlpha "
   ]
  },
  {
   "cell_type": "markdown",
   "id": "ddf9f94d",
   "metadata": {},
   "source": [
    "Try Tuples: \"(Immutable)\"no append no del no assignment"
   ]
  },
  {
   "cell_type": "code",
   "execution_count": 59,
   "id": "d0bdd11c",
   "metadata": {},
   "outputs": [
    {
     "data": {
      "text/plain": [
       "'tup1'"
      ]
     },
     "execution_count": 59,
     "metadata": {},
     "output_type": "execute_result"
    }
   ],
   "source": [
    "T1=('tup1','tup2','tup3')\n",
    "T1[0]"
   ]
  },
  {
   "cell_type": "markdown",
   "id": "6189e4d7",
   "metadata": {},
   "source": [
    "Unpacking in Tuples"
   ]
  },
  {
   "cell_type": "code",
   "execution_count": 60,
   "id": "d63dae00",
   "metadata": {},
   "outputs": [
    {
     "name": "stdout",
     "output_type": "stream",
     "text": [
      "tup1\n",
      "tup2\n",
      "tup3\n"
     ]
    }
   ],
   "source": [
    "Tu1,Tu2,Tu3=T1\n",
    "print(Tu1)\n",
    "print(Tu2)\n",
    "print(Tu3)"
   ]
  },
  {
   "cell_type": "code",
   "execution_count": 62,
   "id": "6718e1e0",
   "metadata": {},
   "outputs": [
    {
     "name": "stdout",
     "output_type": "stream",
     "text": [
      "Congratulations Aya on getting an A in sub1\n",
      "Congratulations Eslam on getting an A in sub1\n"
     ]
    }
   ],
   "source": [
    "st_grades = [\n",
    "    ('Aya', 'sub1', 'A'),\n",
    "    ('Mustafa', 'Sub3', 'B+'),\n",
    "    ('Kamel', 'sub5', 'C+'),\n",
    "    ('Eslam', 'sub1', 'A'),\n",
    "]\n",
    "\n",
    "for name, sub, grd in st_grades:\n",
    "    if grd.startswith('A'):\n",
    "        print('Congratulations', name,\n",
    "              'on getting an', grd,\n",
    "              'in', sub)"
   ]
  },
  {
   "cell_type": "markdown",
   "id": "d796d61a",
   "metadata": {},
   "source": [
    "Try Dictionaries:"
   ]
  },
  {
   "cell_type": "code",
   "execution_count": 71,
   "id": "a6254d9d",
   "metadata": {},
   "outputs": [
    {
     "name": "stdout",
     "output_type": "stream",
     "text": [
      "YYN\n",
      "True\n",
      "False\n",
      "{'Drug1': 'SCD', 'Drug2': 'OPD', 'Drug3': 'YYN', 'Drug4': 'FGF', 'Drug5': 'ABC', 'Drug6': 'AB+'}\n",
      "{'Drug2': 'OPD', 'Drug3': 'YYN', 'Drug4': 'FGF', 'Drug5': 'ABC', 'Drug6': 'AB+'}\n",
      "{'Drug2': 'OPD', 'Drug3': 'YYN', 'Drug4': 'Changed', 'Drug5': 'ABC', 'Drug6': 'AB+'}\n"
     ]
    }
   ],
   "source": [
    "Prescripion={\n",
    "    'Drug1':'SCD',\n",
    "    'Drug2':'OPD',\n",
    "    'Drug3':'YYN',\n",
    "    'Drug4':'FGF',\n",
    "    'Drug5':'ABC',\n",
    "}\n",
    "print(Prescripion['Drug3'])\n",
    "#Check \n",
    "print('Drug4' in Prescripion)\n",
    "print('Drug15' in Prescripion)\n",
    "#ADD\n",
    "Prescripion['Drug6']='AB+'\n",
    "print(Prescripion)\n",
    "#delete\n",
    "del Prescripion['Drug1']\n",
    "print(Prescripion)\n",
    "#change\n",
    "Prescripion['Drug4']='Changed'\n",
    "print(Prescripion)"
   ]
  },
  {
   "cell_type": "markdown",
   "id": "c3ab0e33",
   "metadata": {},
   "source": [
    "Looping over dictionaries:"
   ]
  },
  {
   "cell_type": "code",
   "execution_count": 73,
   "id": "ae9233e4",
   "metadata": {},
   "outputs": [
    {
     "name": "stdout",
     "output_type": "stream",
     "text": [
      "Drug2 is Called OPD\n",
      "Drug3 is Called YYN\n",
      "Drug4 is Called Changed\n",
      "Drug5 is Called ABC\n",
      "Drug6 is Called AB+\n"
     ]
    }
   ],
   "source": [
    "for k, v in Prescripion.items():\n",
    "    print(k, 'is Called', v)"
   ]
  },
  {
   "cell_type": "markdown",
   "id": "d1be2664",
   "metadata": {},
   "source": [
    "Try Combining Data Types:"
   ]
  },
  {
   "cell_type": "code",
   "execution_count": 75,
   "id": "41dda3f1",
   "metadata": {},
   "outputs": [
    {
     "name": "stdout",
     "output_type": "stream",
     "text": [
      "('bread', '15$', '1')\n",
      "15$\n"
     ]
    }
   ],
   "source": [
    "#List of tuples\n",
    "Shopping=[\n",
    "    (\"bread\",\"15$\",\"1\"),\n",
    "    (\"milk\",\"5$\",\"2\"),\n",
    "    (\"bean\",\"20$\",\"1\"),\n",
    "    (\"meat\",\"150$\",\"2\"),\n",
    "    (\"egg\",\"50$\",\"40\"),\n",
    "]\n",
    "print(Shopping[0])\n",
    "print(Shopping[0][1])"
   ]
  },
  {
   "cell_type": "code",
   "execution_count": 83,
   "id": "7387033a",
   "metadata": {},
   "outputs": [
    {
     "name": "stdout",
     "output_type": "stream",
     "text": [
      "[{'item': 'bread', 'price': '15$', 'count': '1'}, {'item': 'milk', 'price': '5$', 'count': '2'}, {'item': 'bean', 'price': '20$', 'count': '1'}, {'item': 'meat', 'price': '150$', 'count': '2'}, {'item': 'egg', 'price': '50$', 'count': '40'}]\n",
      "{'item': 'bread', 'price': '15$', 'count': '1'}\n",
      "15$\n"
     ]
    }
   ],
   "source": [
    "#List of dictionaries\n",
    "Shopping_list_records = []\n",
    "for Iten_name, price, count in Shopping:\n",
    "    record = {\n",
    "        'item': Iten_name,\n",
    "        'price': price,\n",
    "        'count': count,\n",
    "    }\n",
    "    Shopping_list_records.append(record)\n",
    "    \n",
    "print(Shopping_list_records)\n",
    "print(Shopping_list_records[0])\n",
    "print(Shopping_list_records[0]['price'])"
   ]
  },
  {
   "cell_type": "code",
   "execution_count": 87,
   "id": "d08797f5",
   "metadata": {},
   "outputs": [
    {
     "data": {
      "text/plain": [
       "{'bread': {'price': '15$', 'count': '1'},\n",
       " 'milk': {'price': '5$', 'count': '2'},\n",
       " 'bean': {'price': '20$', 'count': '1'},\n",
       " 'meat': {'price': '150$', 'count': '2'},\n",
       " 'egg': {'price': '50$', 'count': '40'}}"
      ]
     },
     "execution_count": 87,
     "metadata": {},
     "output_type": "execute_result"
    }
   ],
   "source": [
    "#Dictionary of dictionaries\n",
    "Shopping_list={}\n",
    "for Iten_name, price, count in Shopping:\n",
    "    record = {\n",
    "        'price': price,\n",
    "        'count': count,\n",
    "    }\n",
    "    Shopping_list[Iten_name]=record\n",
    "    \n",
    "Shopping_list\n"
   ]
  },
  {
   "cell_type": "code",
   "execution_count": 89,
   "id": "7a24f0ff",
   "metadata": {},
   "outputs": [
    {
     "data": {
      "text/plain": [
       "{'price': '20$', 'count': '1'}"
      ]
     },
     "execution_count": 89,
     "metadata": {},
     "output_type": "execute_result"
    }
   ],
   "source": [
    " Shopping_list['bean']"
   ]
  },
  {
   "cell_type": "code",
   "execution_count": 90,
   "id": "7d95c3c3",
   "metadata": {},
   "outputs": [
    {
     "data": {
      "text/plain": [
       "{('bread', '15$'): '1',\n",
       " ('milk', '5$'): '2',\n",
       " ('bean', '20$'): '1',\n",
       " ('meat', '150$'): '2',\n",
       " ('egg', '50$'): '40'}"
      ]
     },
     "execution_count": 90,
     "metadata": {},
     "output_type": "execute_result"
    }
   ],
   "source": [
    "#Dictionary with tuple keys\n",
    "Shopping_list={}\n",
    "for Iten_name, price, count in Shopping:\n",
    "    Shopping_list[Iten_name,price]=count\n",
    "Shopping_list"
   ]
  }
 ],
 "metadata": {
  "kernelspec": {
   "display_name": "Python 3",
   "language": "python",
   "name": "python3"
  },
  "language_info": {
   "codemirror_mode": {
    "name": "ipython",
    "version": 3
   },
   "file_extension": ".py",
   "mimetype": "text/x-python",
   "name": "python",
   "nbconvert_exporter": "python",
   "pygments_lexer": "ipython3",
   "version": "3.8.8"
  }
 },
 "nbformat": 4,
 "nbformat_minor": 5
}
