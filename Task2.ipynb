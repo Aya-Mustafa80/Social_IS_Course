{
 "cells": [
  {
   "cell_type": "markdown",
   "id": "d695401c",
   "metadata": {},
   "source": [
    "### TASK:take inputs numof student( name , scores ) ,then calc the averge scores and one get average above 100 is passeed else is falied then insert students info (name ,scores ,status) in a list of dict"
   ]
  },
  {
   "cell_type": "code",
   "execution_count": 1,
   "id": "79bcfeb9",
   "metadata": {},
   "outputs": [],
   "source": [
    "def PassOrNot(l):\n",
    "    sm=0\n",
    "    for i in l :\n",
    "        sm+=i\n",
    "    sm=sm/len(l)\n",
    "    if sm>100:\n",
    "        return('Passed')\n",
    "    else:\n",
    "        return('Failed')\n",
    "    "
   ]
  },
  {
   "cell_type": "code",
   "execution_count": 7,
   "id": "1c32069d",
   "metadata": {},
   "outputs": [
    {
     "name": "stdout",
     "output_type": "stream",
     "text": [
      "Enter num of student:2\n",
      "Student Name:aya \n",
      "Student Scores:10 20 30 40 50\n",
      "Student Name:mustafa\n",
      "Student Scores:100 200 300 400 500\n",
      "[{'name': 'aya ', 'scores': [10, 20, 30, 40, 50], 'status': 'Failed'}, {'name': 'mustafa', 'scores': [100, 200, 300, 400, 500], 'status': 'Passed'}]\n"
     ]
    }
   ],
   "source": [
    "D=[]\n",
    "numOfstu=int(input('Enter num of student:'))\n",
    "for i in range(numOfstu):\n",
    "    name=input('Student Name:')\n",
    "    scores=input('Student Scores:')\n",
    "    scoresL=scores.split()\n",
    "    L_S=[]\n",
    "    for i in scoresL:\n",
    "             L_S.append(int(i))   \n",
    "    Stus=PassOrNot(L_S) \n",
    "    record = {\n",
    "        'name': name,\n",
    "        'scores': L_S,\n",
    "        'status': Stus,\n",
    "    }\n",
    "    D.append(record)\n",
    "print(D)               "
   ]
  }
 ],
 "metadata": {
  "kernelspec": {
   "display_name": "Python 3",
   "language": "python",
   "name": "python3"
  },
  "language_info": {
   "codemirror_mode": {
    "name": "ipython",
    "version": 3
   },
   "file_extension": ".py",
   "mimetype": "text/x-python",
   "name": "python",
   "nbconvert_exporter": "python",
   "pygments_lexer": "ipython3",
   "version": "3.8.8"
  }
 },
 "nbformat": 4,
 "nbformat_minor": 5
}
