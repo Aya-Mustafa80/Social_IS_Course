{
 "cells": [
  {
   "cell_type": "code",
   "execution_count": 46,
   "id": "00daf6f0",
   "metadata": {},
   "outputs": [],
   "source": [
    "import networkx as nx\n",
    "%matplotlib inline\n",
    "import matplotlib.pyplot as plt\n",
    "from collections import Counter"
   ]
  },
  {
   "cell_type": "markdown",
   "id": "c9b55b02",
   "metadata": {},
   "source": [
    "## Graph1_Undirected "
   ]
  },
  {
   "cell_type": "code",
   "execution_count": 50,
   "id": "2908986d",
   "metadata": {},
   "outputs": [
    {
     "data": {
      "image/png": "[encoded data removed]",
      "text/plain": [
       "<Figure size 432x288 with 1 Axes>"
      ]
     },
     "metadata": {},
     "output_type": "display_data"
    }
   ],
   "source": [
    "G = nx.Graph()\n",
    "nodes_to_add = [1, 2, 3,4,5,6]\n",
    "G.add_nodes_from(nodes_to_add)\n",
    "edges_to_add = [(1,2), (1, 3), (1, 4),(1,6),(2,3),(2,4),(3,6)]\n",
    "G.add_edges_from(edges_to_add)\n",
    "nx.draw(G,\n",
    "        with_labels=True,\n",
    "        node_color='blue',\n",
    "        node_size=1200,\n",
    "        font_color='white',\n",
    "        font_size=16,\n",
    "        )"
   ]
  },
  {
   "cell_type": "code",
   "execution_count": 51,
   "id": "2f2798d7",
   "metadata": {},
   "outputs": [
    {
     "data": {
      "text/plain": [
       "matrix([[0., 1., 1., 1., 0., 1.],\n",
       "        [1., 0., 1., 1., 0., 0.],\n",
       "        [1., 1., 0., 0., 0., 1.],\n",
       "        [1., 1., 0., 0., 0., 0.],\n",
       "        [0., 0., 0., 0., 0., 0.],\n",
       "        [1., 0., 1., 0., 0., 0.]])"
      ]
     },
     "execution_count": 51,
     "metadata": {},
     "output_type": "execute_result"
    }
   ],
   "source": [
    "nx.to_numpy_matrix(G)"
   ]
  },
  {
   "cell_type": "code",
   "execution_count": 52,
   "id": "f0152f20",
   "metadata": {},
   "outputs": [
    {
     "data": {
      "text/plain": [
       "<BarContainer object of 5 artists>"
      ]
     },
     "execution_count": 52,
     "metadata": {},
     "output_type": "execute_result"
    },
    {
     "data": {
      "image/png": "[encoded data removed]",
      "text/plain": [
       "<Figure size 432x288 with 1 Axes>"
      ]
     },
     "metadata": {
      "needs_background": "light"
     },
     "output_type": "display_data"
    }
   ],
   "source": [
    "degree_sequence = [G.degree(n) for n in G.nodes]\n",
    "degree_counts = Counter(degree_sequence)\n",
    "degree_counts #Counter({4: 1, 3: 2, 2: 2, 0: 1})\n",
    "min_degree, max_degree = min(degree_counts.keys()), max(degree_counts.keys())\n",
    "\n",
    "plot_x = list(range(min_degree, max_degree + 1))\n",
    "plot_y = [degree_counts.get(x, 0) for x in plot_x]\n",
    "\n",
    "plt.bar(plot_x, plot_y)"
   ]
  },
  {
   "cell_type": "markdown",
   "id": "7650d76c",
   "metadata": {},
   "source": [
    "## Graph2_Directed "
   ]
  },
  {
   "cell_type": "code",
   "execution_count": 57,
   "id": "96234cac",
   "metadata": {},
   "outputs": [
    {
     "data": {
      "image/png": "[encoded data removed]",
      "text/plain": [
       "<Figure size 432x288 with 1 Axes>"
      ]
     },
     "metadata": {},
     "output_type": "display_data"
    }
   ],
   "source": [
    "D = nx.DiGraph()\n",
    "nodes_to_add = [1, 2, 3,4,5,6]\n",
    "D.add_nodes_from(nodes_to_add)\n",
    "D.add_edges_from([(1,2),(2,4),(4,1),(2,3),(3,2),(3,1),(6,3),(6,1)])\n",
    "nx.draw(D,\n",
    "        with_labels=True,\n",
    "        node_color='blue',\n",
    "        node_size=900,\n",
    "        font_color='white',\n",
    "        font_size=16,\n",
    "        )"
   ]
  },
  {
   "cell_type": "code",
   "execution_count": 58,
   "id": "94a186d0",
   "metadata": {},
   "outputs": [
    {
     "data": {
      "text/plain": [
       "matrix([[0., 1., 0., 0., 0., 0.],\n",
       "        [0., 0., 1., 1., 0., 0.],\n",
       "        [1., 1., 0., 0., 0., 0.],\n",
       "        [1., 0., 0., 0., 0., 0.],\n",
       "        [0., 0., 0., 0., 0., 0.],\n",
       "        [1., 0., 1., 0., 0., 0.]])"
      ]
     },
     "execution_count": 58,
     "metadata": {},
     "output_type": "execute_result"
    }
   ],
   "source": [
    "nx.to_numpy_matrix(D)"
   ]
  },
  {
   "cell_type": "code",
   "execution_count": 60,
   "id": "e06d187a",
   "metadata": {},
   "outputs": [
    {
     "data": {
      "text/plain": [
       "<BarContainer object of 5 artists>"
      ]
     },
     "execution_count": 60,
     "metadata": {},
     "output_type": "execute_result"
    },
    {
     "data": {
      "image/png": "[encoded data removed]",
      "text/plain": [
       "<Figure size 432x288 with 1 Axes>"
      ]
     },
     "metadata": {
      "needs_background": "light"
     },
     "output_type": "display_data"
    }
   ],
   "source": [
    "degree_sequence = [D.degree(n) for n in D.nodes]\n",
    "degree_counts = Counter(degree_sequence)\n",
    "degree_counts #Counter({4: 3, 2: 2, 0: 1})\n",
    "min_degree, max_degree = min(degree_counts.keys()), max(degree_counts.keys())\n",
    "\n",
    "plot_x = list(range(min_degree, max_degree + 1))\n",
    "plot_y = [degree_counts.get(x, 0) for x in plot_x]\n",
    "\n",
    "plt.bar(plot_x, plot_y)"
   ]
  },
  {
   "cell_type": "code",
   "execution_count": null,
   "id": "9bd022a8",
   "metadata": {},
   "outputs": [],
   "source": []
  }
 ],
 "metadata": {
  "kernelspec": {
   "display_name": "Python 3 (ipykernel)",
   "language": "python",
   "name": "python3"
  },
  "language_info": {
   "codemirror_mode": {
    "name": "ipython",
    "version": 3
   },
   "file_extension": ".py",
   "mimetype": "text/x-python",
   "name": "python",
   "nbconvert_exporter": "python",
   "pygments_lexer": "ipython3",
   "version": "3.9.7"
  }
 },
 "nbformat": 4,
 "nbformat_minor": 5
}
